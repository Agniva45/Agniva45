{
  "metadata": {
    "kernelspec": {
      "language": "python",
      "display_name": "Python 3",
      "name": "python3"
    },
    "language_info": {
      "name": "python",
      "version": "3.10.13",
      "mimetype": "text/x-python",
      "codemirror_mode": {
        "name": "ipython",
        "version": 3
      },
      "pygments_lexer": "ipython3",
      "nbconvert_exporter": "python",
      "file_extension": ".py"
    },
    "kaggle": {
      "accelerator": "none",
      "dataSources": [],
      "dockerImageVersionId": 30698,
      "isInternetEnabled": false,
      "language": "python",
      "sourceType": "notebook",
      "isGpuEnabled": false
    },
    "colab": {
      "name": "notebookfe1c16ce2c",
      "provenance": [],
      "include_colab_link": true
    }
  },
  "nbformat_minor": 0,
  "nbformat": 4,
  "cells": [
    {
      "cell_type": "markdown",
      "metadata": {
        "id": "view-in-github",
        "colab_type": "text"
      },
      "source": [
        "<a href=\"https://colab.research.google.com/github/agniva13/Agniva45/blob/main/notebookfe1c16ce2c.ipynb\" target=\"_parent\"><img src=\"https://colab.research.google.com/assets/colab-badge.svg\" alt=\"Open In Colab\"/></a>"
      ]
    },
    {
      "cell_type": "code",
      "source": [
        "# This Python 3 environment comes with many helpful analytics libraries installed\n",
        "# It is defined by the kaggle/python Docker image: https://github.com/kaggle/docker-python\n",
        "# For example, here's several helpful packages to load\n",
        "\n",
        "import numpy as np # linear algebra\n",
        "import pandas as pd # data processing, CSV file I/O (e.g. pd.read_csv)\n",
        "import torch\n",
        "\n",
        "# Input data files are available in the read-only \"../input/\" directory\n",
        "# For example, running this (by clicking run or pressing Shift+Enter) will list all files under the input directory\n",
        "\n",
        "import os\n",
        "for dirname, _, filenames in os.walk('/kaggle/input'):\n",
        "    for filename in filenames:\n",
        "        print(os.path.join(dirname, filename))\n",
        "\n",
        "# You can write up to 20GB to the current directory (/kaggle/working/) that gets preserved as output when you create a version using \"Save & Run All\"\n",
        "# You can also write temporary files to /kaggle/temp/, but they won't be saved outside of the current session"
      ],
      "metadata": {
        "_uuid": "8f2839f25d086af736a60e9eeb907d3b93b6e0e5",
        "_cell_guid": "b1076dfc-b9ad-4769-8c92-a6c4dae69d19",
        "execution": {
          "iopub.status.busy": "2024-05-21T01:19:55.347014Z",
          "iopub.execute_input": "2024-05-21T01:19:55.348205Z",
          "iopub.status.idle": "2024-05-21T01:20:01.457758Z",
          "shell.execute_reply.started": "2024-05-21T01:19:55.348154Z",
          "shell.execute_reply": "2024-05-21T01:20:01.45672Z"
        },
        "trusted": true,
        "id": "qWKIJIeYvF4h"
      },
      "execution_count": 2,
      "outputs": []
    },
    {
      "cell_type": "code",
      "source": [
        "import torch"
      ],
      "metadata": {
        "execution": {
          "iopub.status.busy": "2024-05-21T01:20:01.460109Z",
          "iopub.execute_input": "2024-05-21T01:20:01.461068Z",
          "iopub.status.idle": "2024-05-21T01:20:01.467727Z",
          "shell.execute_reply.started": "2024-05-21T01:20:01.461029Z",
          "shell.execute_reply": "2024-05-21T01:20:01.46632Z"
        },
        "trusted": true,
        "id": "5IwsdvcwvF4j"
      },
      "execution_count": 1,
      "outputs": []
    },
    {
      "cell_type": "code",
      "source": [
        "import torch.nn.functional as F\n",
        "import torch.nn as nn\n",
        "import numpy as np\n",
        "import torch\n",
        "print(torch.__version__)"
      ],
      "metadata": {
        "execution": {
          "iopub.status.busy": "2024-05-21T01:20:01.469318Z",
          "iopub.execute_input": "2024-05-21T01:20:01.469688Z",
          "iopub.status.idle": "2024-05-21T01:20:01.480333Z",
          "shell.execute_reply.started": "2024-05-21T01:20:01.469658Z",
          "shell.execute_reply": "2024-05-21T01:20:01.479314Z"
        },
        "trusted": true,
        "id": "ItT4ZILlvF4k",
        "outputId": "f1612b22-9d29-449b-a2bd-5fdba8892a0a",
        "colab": {
          "base_uri": "https://localhost:8080/"
        }
      },
      "execution_count": 3,
      "outputs": [
        {
          "output_type": "stream",
          "name": "stdout",
          "text": [
            "2.2.1+cu121\n"
          ]
        }
      ]
    },
    {
      "cell_type": "code",
      "source": [
        "class MLP(nn.Module):\n",
        "    def __init__(self):\n",
        "        super(MLP,self).__init__()\n",
        "        self.fc1=nn.Linear(784,100)\n",
        "        self.fc2=nn.Linear(100,10)\n",
        "    def forward(self,x):\n",
        "        x=self.fc1(x)\n",
        "        x=torch.sigmoid(x)\n",
        "        x=self.fc2(x)\n",
        "        x=F.log_softmax(x,dim=1)\n",
        "        return x\n",
        ""
      ],
      "metadata": {
        "execution": {
          "iopub.status.busy": "2024-05-21T01:20:01.482695Z",
          "iopub.execute_input": "2024-05-21T01:20:01.483386Z",
          "iopub.status.idle": "2024-05-21T01:20:01.492382Z",
          "shell.execute_reply.started": "2024-05-21T01:20:01.483351Z",
          "shell.execute_reply": "2024-05-21T01:20:01.491132Z"
        },
        "trusted": true,
        "id": "fLhZPp3SvF4k"
      },
      "execution_count": 4,
      "outputs": []
    },
    {
      "cell_type": "code",
      "source": [
        "net=MLP()\n",
        "print(net)"
      ],
      "metadata": {
        "execution": {
          "iopub.status.busy": "2024-05-21T01:20:01.494229Z",
          "iopub.execute_input": "2024-05-21T01:20:01.495538Z",
          "iopub.status.idle": "2024-05-21T01:20:01.535636Z",
          "shell.execute_reply.started": "2024-05-21T01:20:01.495487Z",
          "shell.execute_reply": "2024-05-21T01:20:01.534367Z"
        },
        "trusted": true,
        "id": "ggzNjgY1vF4l",
        "outputId": "787c59ce-75e5-4dbf-e0b4-52f7b72f41ee",
        "colab": {
          "base_uri": "https://localhost:8080/"
        }
      },
      "execution_count": 6,
      "outputs": [
        {
          "output_type": "stream",
          "name": "stdout",
          "text": [
            "MLP(\n",
            "  (fc1): Linear(in_features=784, out_features=100, bias=True)\n",
            "  (fc2): Linear(in_features=100, out_features=10, bias=True)\n",
            ")\n"
          ]
        }
      ]
    },
    {
      "cell_type": "code",
      "source": [
        "params=list(net.parameters())\n",
        "print(str(len(params)))\n",
        "print(str(params[0].size()))\n",
        "print(str(params[1].size()))\n",
        "print(str(params[2].size()))\n",
        "print(str(params[3].size()))"
      ],
      "metadata": {
        "execution": {
          "iopub.status.busy": "2024-05-21T01:20:01.537533Z",
          "iopub.execute_input": "2024-05-21T01:20:01.538046Z",
          "iopub.status.idle": "2024-05-21T01:20:01.547515Z",
          "shell.execute_reply.started": "2024-05-21T01:20:01.538002Z",
          "shell.execute_reply": "2024-05-21T01:20:01.546248Z"
        },
        "trusted": true,
        "id": "7bFTqz6CvF4l",
        "outputId": "0999f45a-f4f5-4f6e-f87f-7bd36ee1d436",
        "colab": {
          "base_uri": "https://localhost:8080/"
        }
      },
      "execution_count": 7,
      "outputs": [
        {
          "output_type": "stream",
          "name": "stdout",
          "text": [
            "4\n",
            "torch.Size([100, 784])\n",
            "torch.Size([100])\n",
            "torch.Size([10, 100])\n",
            "torch.Size([10])\n"
          ]
        }
      ]
    }
  ]
}